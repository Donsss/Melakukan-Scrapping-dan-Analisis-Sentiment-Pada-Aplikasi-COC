{
  "nbformat": 4,
  "nbformat_minor": 0,
  "metadata": {
    "colab": {
      "provenance": []
    },
    "kernelspec": {
      "name": "python3",
      "display_name": "Python 3"
    },
    "language_info": {
      "name": "python"
    }
  },
  "cells": [
    {
      "cell_type": "code",
      "execution_count": 8,
      "metadata": {
        "colab": {
          "base_uri": "https://localhost:8080/",
          "height": 501
        },
        "id": "n2ymT9CGmGRm",
        "outputId": "ade495f1-2f5f-454e-8ecc-507ef8dc3553"
      },
      "outputs": [
        {
          "output_type": "execute_result",
          "data": {
            "text/plain": [
              "                                              Review  \\\n",
              "0  Clash of clans sekarang sering gangguan atau l...   \n",
              "1  Buat kalian yang sering force close app periks...   \n",
              "2  kenapa sistem koneksi klien dengan server tida...   \n",
              "3  gamenya bagus dan saya sudah memainkannya sang...   \n",
              "4  Kendala saya cuma di multipemain nya aja, soal...   \n",
              "\n",
              "                                          text_clean  \\\n",
              "0  Clash of clans sekarang sering gangguan atau l...   \n",
              "1  Buat kalian yang sering force close app periks...   \n",
              "2  kenapa sistem koneksi klien dengan server tida...   \n",
              "3  gamenya bagus dan saya sudah memainkannya sang...   \n",
              "4  Kendala saya cuma di multipemain nya aja soaln...   \n",
              "\n",
              "                                text_casefoldingText  \\\n",
              "0  clash of clans sekarang sering gangguan atau l...   \n",
              "1  buat kalian yang sering force close app periks...   \n",
              "2  kenapa sistem koneksi klien dengan server tida...   \n",
              "3  gamenya bagus dan saya sudah memainkannya sang...   \n",
              "4  kendala saya cuma di multipemain nya aja soaln...   \n",
              "\n",
              "                                     text_slangwords  \\\n",
              "0  clash of clans sekarang sering gangguan atau l...   \n",
              "1  buat kalian yang sering force close app periks...   \n",
              "2  kenapa sistem koneksi klien dengan server tida...   \n",
              "3  game bagus dan saya sudah memainkannya sangat ...   \n",
              "4  terhalang saya cuma di multipemain nya aja soa...   \n",
              "\n",
              "                                 text_tokenizingText  \\\n",
              "0  ['clash', 'of', 'clans', 'sekarang', 'sering',...   \n",
              "1  ['buat', 'kalian', 'yang', 'sering', 'force', ...   \n",
              "2  ['kenapa', 'sistem', 'koneksi', 'klien', 'deng...   \n",
              "3  ['game', 'bagus', 'dan', 'saya', 'sudah', 'mem...   \n",
              "4  ['terhalang', 'saya', 'cuma', 'di', 'multipema...   \n",
              "\n",
              "                                       text_stopword  \\\n",
              "0  ['gangguan', 'lose', 'connect', 'sinyalnya', '...   \n",
              "1  ['force', 'close', 'app', 'periksa', 'device',...   \n",
              "2  ['sistem', 'koneksi', 'klien', 'server', 'diru...   \n",
              "3  ['bagus', 'memainkannya', 'saran', 'tolong', '...   \n",
              "4  ['terhalang', 'multipemain', 'nyari', 'lawan',...   \n",
              "\n",
              "                                          text_akhir  polarity_score  polarity  \n",
              "0  gangguan lose connect sinyalnya bagus ngebug b...             -10  negative  \n",
              "1  force close app periksa device pengaruh app be...             -30  negative  \n",
              "2  sistem koneksi klien server dirubah terputus k...             -12  negative  \n",
              "3  bagus memainkannya saran tolong disconnect men...             -26  negative  \n",
              "4  terhalang multipemain nyari lawan diatas balai...             -13  negative  "
            ],
            "text/html": [
              "\n",
              "  <div id=\"df-844e3572-6fc0-4edd-91b6-73731d1e964b\" class=\"colab-df-container\">\n",
              "    <div>\n",
              "<style scoped>\n",
              "    .dataframe tbody tr th:only-of-type {\n",
              "        vertical-align: middle;\n",
              "    }\n",
              "\n",
              "    .dataframe tbody tr th {\n",
              "        vertical-align: top;\n",
              "    }\n",
              "\n",
              "    .dataframe thead th {\n",
              "        text-align: right;\n",
              "    }\n",
              "</style>\n",
              "<table border=\"1\" class=\"dataframe\">\n",
              "  <thead>\n",
              "    <tr style=\"text-align: right;\">\n",
              "      <th></th>\n",
              "      <th>Review</th>\n",
              "      <th>text_clean</th>\n",
              "      <th>text_casefoldingText</th>\n",
              "      <th>text_slangwords</th>\n",
              "      <th>text_tokenizingText</th>\n",
              "      <th>text_stopword</th>\n",
              "      <th>text_akhir</th>\n",
              "      <th>polarity_score</th>\n",
              "      <th>polarity</th>\n",
              "    </tr>\n",
              "  </thead>\n",
              "  <tbody>\n",
              "    <tr>\n",
              "      <th>0</th>\n",
              "      <td>Clash of clans sekarang sering gangguan atau l...</td>\n",
              "      <td>Clash of clans sekarang sering gangguan atau l...</td>\n",
              "      <td>clash of clans sekarang sering gangguan atau l...</td>\n",
              "      <td>clash of clans sekarang sering gangguan atau l...</td>\n",
              "      <td>['clash', 'of', 'clans', 'sekarang', 'sering',...</td>\n",
              "      <td>['gangguan', 'lose', 'connect', 'sinyalnya', '...</td>\n",
              "      <td>gangguan lose connect sinyalnya bagus ngebug b...</td>\n",
              "      <td>-10</td>\n",
              "      <td>negative</td>\n",
              "    </tr>\n",
              "    <tr>\n",
              "      <th>1</th>\n",
              "      <td>Buat kalian yang sering force close app periks...</td>\n",
              "      <td>Buat kalian yang sering force close app periks...</td>\n",
              "      <td>buat kalian yang sering force close app periks...</td>\n",
              "      <td>buat kalian yang sering force close app periks...</td>\n",
              "      <td>['buat', 'kalian', 'yang', 'sering', 'force', ...</td>\n",
              "      <td>['force', 'close', 'app', 'periksa', 'device',...</td>\n",
              "      <td>force close app periksa device pengaruh app be...</td>\n",
              "      <td>-30</td>\n",
              "      <td>negative</td>\n",
              "    </tr>\n",
              "    <tr>\n",
              "      <th>2</th>\n",
              "      <td>kenapa sistem koneksi klien dengan server tida...</td>\n",
              "      <td>kenapa sistem koneksi klien dengan server tida...</td>\n",
              "      <td>kenapa sistem koneksi klien dengan server tida...</td>\n",
              "      <td>kenapa sistem koneksi klien dengan server tida...</td>\n",
              "      <td>['kenapa', 'sistem', 'koneksi', 'klien', 'deng...</td>\n",
              "      <td>['sistem', 'koneksi', 'klien', 'server', 'diru...</td>\n",
              "      <td>sistem koneksi klien server dirubah terputus k...</td>\n",
              "      <td>-12</td>\n",
              "      <td>negative</td>\n",
              "    </tr>\n",
              "    <tr>\n",
              "      <th>3</th>\n",
              "      <td>gamenya bagus dan saya sudah memainkannya sang...</td>\n",
              "      <td>gamenya bagus dan saya sudah memainkannya sang...</td>\n",
              "      <td>gamenya bagus dan saya sudah memainkannya sang...</td>\n",
              "      <td>game bagus dan saya sudah memainkannya sangat ...</td>\n",
              "      <td>['game', 'bagus', 'dan', 'saya', 'sudah', 'mem...</td>\n",
              "      <td>['bagus', 'memainkannya', 'saran', 'tolong', '...</td>\n",
              "      <td>bagus memainkannya saran tolong disconnect men...</td>\n",
              "      <td>-26</td>\n",
              "      <td>negative</td>\n",
              "    </tr>\n",
              "    <tr>\n",
              "      <th>4</th>\n",
              "      <td>Kendala saya cuma di multipemain nya aja, soal...</td>\n",
              "      <td>Kendala saya cuma di multipemain nya aja soaln...</td>\n",
              "      <td>kendala saya cuma di multipemain nya aja soaln...</td>\n",
              "      <td>terhalang saya cuma di multipemain nya aja soa...</td>\n",
              "      <td>['terhalang', 'saya', 'cuma', 'di', 'multipema...</td>\n",
              "      <td>['terhalang', 'multipemain', 'nyari', 'lawan',...</td>\n",
              "      <td>terhalang multipemain nyari lawan diatas balai...</td>\n",
              "      <td>-13</td>\n",
              "      <td>negative</td>\n",
              "    </tr>\n",
              "  </tbody>\n",
              "</table>\n",
              "</div>\n",
              "    <div class=\"colab-df-buttons\">\n",
              "\n",
              "  <div class=\"colab-df-container\">\n",
              "    <button class=\"colab-df-convert\" onclick=\"convertToInteractive('df-844e3572-6fc0-4edd-91b6-73731d1e964b')\"\n",
              "            title=\"Convert this dataframe to an interactive table.\"\n",
              "            style=\"display:none;\">\n",
              "\n",
              "  <svg xmlns=\"http://www.w3.org/2000/svg\" height=\"24px\" viewBox=\"0 -960 960 960\">\n",
              "    <path d=\"M120-120v-720h720v720H120Zm60-500h600v-160H180v160Zm220 220h160v-160H400v160Zm0 220h160v-160H400v160ZM180-400h160v-160H180v160Zm440 0h160v-160H620v160ZM180-180h160v-160H180v160Zm440 0h160v-160H620v160Z\"/>\n",
              "  </svg>\n",
              "    </button>\n",
              "\n",
              "  <style>\n",
              "    .colab-df-container {\n",
              "      display:flex;\n",
              "      gap: 12px;\n",
              "    }\n",
              "\n",
              "    .colab-df-convert {\n",
              "      background-color: #E8F0FE;\n",
              "      border: none;\n",
              "      border-radius: 50%;\n",
              "      cursor: pointer;\n",
              "      display: none;\n",
              "      fill: #1967D2;\n",
              "      height: 32px;\n",
              "      padding: 0 0 0 0;\n",
              "      width: 32px;\n",
              "    }\n",
              "\n",
              "    .colab-df-convert:hover {\n",
              "      background-color: #E2EBFA;\n",
              "      box-shadow: 0px 1px 2px rgba(60, 64, 67, 0.3), 0px 1px 3px 1px rgba(60, 64, 67, 0.15);\n",
              "      fill: #174EA6;\n",
              "    }\n",
              "\n",
              "    .colab-df-buttons div {\n",
              "      margin-bottom: 4px;\n",
              "    }\n",
              "\n",
              "    [theme=dark] .colab-df-convert {\n",
              "      background-color: #3B4455;\n",
              "      fill: #D2E3FC;\n",
              "    }\n",
              "\n",
              "    [theme=dark] .colab-df-convert:hover {\n",
              "      background-color: #434B5C;\n",
              "      box-shadow: 0px 1px 3px 1px rgba(0, 0, 0, 0.15);\n",
              "      filter: drop-shadow(0px 1px 2px rgba(0, 0, 0, 0.3));\n",
              "      fill: #FFFFFF;\n",
              "    }\n",
              "  </style>\n",
              "\n",
              "    <script>\n",
              "      const buttonEl =\n",
              "        document.querySelector('#df-844e3572-6fc0-4edd-91b6-73731d1e964b button.colab-df-convert');\n",
              "      buttonEl.style.display =\n",
              "        google.colab.kernel.accessAllowed ? 'block' : 'none';\n",
              "\n",
              "      async function convertToInteractive(key) {\n",
              "        const element = document.querySelector('#df-844e3572-6fc0-4edd-91b6-73731d1e964b');\n",
              "        const dataTable =\n",
              "          await google.colab.kernel.invokeFunction('convertToInteractive',\n",
              "                                                    [key], {});\n",
              "        if (!dataTable) return;\n",
              "\n",
              "        const docLinkHtml = 'Like what you see? Visit the ' +\n",
              "          '<a target=\"_blank\" href=https://colab.research.google.com/notebooks/data_table.ipynb>data table notebook</a>'\n",
              "          + ' to learn more about interactive tables.';\n",
              "        element.innerHTML = '';\n",
              "        dataTable['output_type'] = 'display_data';\n",
              "        await google.colab.output.renderOutput(dataTable, element);\n",
              "        const docLink = document.createElement('div');\n",
              "        docLink.innerHTML = docLinkHtml;\n",
              "        element.appendChild(docLink);\n",
              "      }\n",
              "    </script>\n",
              "  </div>\n",
              "\n",
              "\n",
              "<div id=\"df-bd492173-72b3-47e9-a410-d8736c5f63c7\">\n",
              "  <button class=\"colab-df-quickchart\" onclick=\"quickchart('df-bd492173-72b3-47e9-a410-d8736c5f63c7')\"\n",
              "            title=\"Suggest charts\"\n",
              "            style=\"display:none;\">\n",
              "\n",
              "<svg xmlns=\"http://www.w3.org/2000/svg\" height=\"24px\"viewBox=\"0 0 24 24\"\n",
              "     width=\"24px\">\n",
              "    <g>\n",
              "        <path d=\"M19 3H5c-1.1 0-2 .9-2 2v14c0 1.1.9 2 2 2h14c1.1 0 2-.9 2-2V5c0-1.1-.9-2-2-2zM9 17H7v-7h2v7zm4 0h-2V7h2v10zm4 0h-2v-4h2v4z\"/>\n",
              "    </g>\n",
              "</svg>\n",
              "  </button>\n",
              "\n",
              "<style>\n",
              "  .colab-df-quickchart {\n",
              "      --bg-color: #E8F0FE;\n",
              "      --fill-color: #1967D2;\n",
              "      --hover-bg-color: #E2EBFA;\n",
              "      --hover-fill-color: #174EA6;\n",
              "      --disabled-fill-color: #AAA;\n",
              "      --disabled-bg-color: #DDD;\n",
              "  }\n",
              "\n",
              "  [theme=dark] .colab-df-quickchart {\n",
              "      --bg-color: #3B4455;\n",
              "      --fill-color: #D2E3FC;\n",
              "      --hover-bg-color: #434B5C;\n",
              "      --hover-fill-color: #FFFFFF;\n",
              "      --disabled-bg-color: #3B4455;\n",
              "      --disabled-fill-color: #666;\n",
              "  }\n",
              "\n",
              "  .colab-df-quickchart {\n",
              "    background-color: var(--bg-color);\n",
              "    border: none;\n",
              "    border-radius: 50%;\n",
              "    cursor: pointer;\n",
              "    display: none;\n",
              "    fill: var(--fill-color);\n",
              "    height: 32px;\n",
              "    padding: 0;\n",
              "    width: 32px;\n",
              "  }\n",
              "\n",
              "  .colab-df-quickchart:hover {\n",
              "    background-color: var(--hover-bg-color);\n",
              "    box-shadow: 0 1px 2px rgba(60, 64, 67, 0.3), 0 1px 3px 1px rgba(60, 64, 67, 0.15);\n",
              "    fill: var(--button-hover-fill-color);\n",
              "  }\n",
              "\n",
              "  .colab-df-quickchart-complete:disabled,\n",
              "  .colab-df-quickchart-complete:disabled:hover {\n",
              "    background-color: var(--disabled-bg-color);\n",
              "    fill: var(--disabled-fill-color);\n",
              "    box-shadow: none;\n",
              "  }\n",
              "\n",
              "  .colab-df-spinner {\n",
              "    border: 2px solid var(--fill-color);\n",
              "    border-color: transparent;\n",
              "    border-bottom-color: var(--fill-color);\n",
              "    animation:\n",
              "      spin 1s steps(1) infinite;\n",
              "  }\n",
              "\n",
              "  @keyframes spin {\n",
              "    0% {\n",
              "      border-color: transparent;\n",
              "      border-bottom-color: var(--fill-color);\n",
              "      border-left-color: var(--fill-color);\n",
              "    }\n",
              "    20% {\n",
              "      border-color: transparent;\n",
              "      border-left-color: var(--fill-color);\n",
              "      border-top-color: var(--fill-color);\n",
              "    }\n",
              "    30% {\n",
              "      border-color: transparent;\n",
              "      border-left-color: var(--fill-color);\n",
              "      border-top-color: var(--fill-color);\n",
              "      border-right-color: var(--fill-color);\n",
              "    }\n",
              "    40% {\n",
              "      border-color: transparent;\n",
              "      border-right-color: var(--fill-color);\n",
              "      border-top-color: var(--fill-color);\n",
              "    }\n",
              "    60% {\n",
              "      border-color: transparent;\n",
              "      border-right-color: var(--fill-color);\n",
              "    }\n",
              "    80% {\n",
              "      border-color: transparent;\n",
              "      border-right-color: var(--fill-color);\n",
              "      border-bottom-color: var(--fill-color);\n",
              "    }\n",
              "    90% {\n",
              "      border-color: transparent;\n",
              "      border-bottom-color: var(--fill-color);\n",
              "    }\n",
              "  }\n",
              "</style>\n",
              "\n",
              "  <script>\n",
              "    async function quickchart(key) {\n",
              "      const quickchartButtonEl =\n",
              "        document.querySelector('#' + key + ' button');\n",
              "      quickchartButtonEl.disabled = true;  // To prevent multiple clicks.\n",
              "      quickchartButtonEl.classList.add('colab-df-spinner');\n",
              "      try {\n",
              "        const charts = await google.colab.kernel.invokeFunction(\n",
              "            'suggestCharts', [key], {});\n",
              "      } catch (error) {\n",
              "        console.error('Error during call to suggestCharts:', error);\n",
              "      }\n",
              "      quickchartButtonEl.classList.remove('colab-df-spinner');\n",
              "      quickchartButtonEl.classList.add('colab-df-quickchart-complete');\n",
              "    }\n",
              "    (() => {\n",
              "      let quickchartButtonEl =\n",
              "        document.querySelector('#df-bd492173-72b3-47e9-a410-d8736c5f63c7 button');\n",
              "      quickchartButtonEl.style.display =\n",
              "        google.colab.kernel.accessAllowed ? 'block' : 'none';\n",
              "    })();\n",
              "  </script>\n",
              "</div>\n",
              "\n",
              "    </div>\n",
              "  </div>\n"
            ],
            "application/vnd.google.colaboratory.intrinsic+json": {
              "type": "dataframe",
              "variable_name": "data"
            }
          },
          "metadata": {},
          "execution_count": 8
        }
      ],
      "source": [
        "import pandas as pd\n",
        "\n",
        "data = pd.read_csv(\"/content/hasil_text_preprocessing.csv\")\n",
        "data.head()"
      ]
    },
    {
      "cell_type": "code",
      "source": [
        "data = data.dropna()"
      ],
      "metadata": {
        "id": "5qjIlMYcG1ll"
      },
      "execution_count": 9,
      "outputs": []
    },
    {
      "cell_type": "markdown",
      "source": [
        "# Menggunakan Algoritma Deep learning"
      ],
      "metadata": {
        "id": "dFsjIhBnqTFV"
      }
    },
    {
      "cell_type": "code",
      "source": [
        "from keras.models import Sequential\n",
        "from keras.layers import Embedding, SimpleRNN, Dense, Dropout\n",
        "from tensorflow.keras.preprocessing.text import Tokenizer\n",
        "from tensorflow.keras.preprocessing.sequence import pad_sequences\n",
        "from sklearn.preprocessing import LabelEncoder\n",
        "from sklearn.model_selection import train_test_split\n",
        "from keras.utils import to_categorical\n",
        "from keras.callbacks import EarlyStopping\n",
        "\n",
        "tokenizer = Tokenizer()\n",
        "tokenizer.fit_on_texts(data['text_akhir'])\n",
        "X1 = tokenizer.texts_to_sequences(data['text_akhir'])\n",
        "X1 = pad_sequences(X1)\n",
        "\n",
        "y1 = data['polarity']\n",
        "label_encoder = LabelEncoder()\n",
        "y1 = label_encoder.fit_transform(y1)\n",
        "\n",
        "y1 = to_categorical(y1, num_classes=3)\n",
        "\n",
        "X_train, X_test, y_train, y_test = train_test_split(X1, y1, test_size=0.2, random_state=42)\n",
        "\n",
        "model = Sequential([\n",
        "    Embedding(input_dim=len(tokenizer.word_index) + 1, output_dim=10, input_length=X1.shape[1]),\n",
        "    SimpleRNN(16, return_sequences=False),\n",
        "    Dropout(0,5),\n",
        "    Dense(3, activation='softmax')\n",
        "])\n",
        "\n",
        "model.compile(loss='categorical_crossentropy', optimizer='adam', metrics=['accuracy'])\n",
        "\n",
        "hist = model.fit(X_train, y_train, epochs=5, batch_size=128)\n",
        "\n",
        "train_accuracy = hist.history['accuracy'][-1]\n",
        "print(f'Train Accuracy: {train_accuracy:.2f}')\n",
        "\n",
        "test_loss, test_accuracy = model.evaluate(X_test, y_test)\n",
        "print(f'Test Accuracy: {test_accuracy:.2f}')"
      ],
      "metadata": {
        "colab": {
          "base_uri": "https://localhost:8080/"
        },
        "id": "QPp3cNS9nA3f",
        "outputId": "3417fce7-eb8b-42e9-cdbb-f85560d864a7"
      },
      "execution_count": 10,
      "outputs": [
        {
          "output_type": "stream",
          "name": "stdout",
          "text": [
            "Epoch 1/5\n"
          ]
        },
        {
          "output_type": "stream",
          "name": "stderr",
          "text": [
            "/usr/local/lib/python3.11/dist-packages/keras/src/layers/core/embedding.py:90: UserWarning: Argument `input_length` is deprecated. Just remove it.\n",
            "  warnings.warn(\n"
          ]
        },
        {
          "output_type": "stream",
          "name": "stdout",
          "text": [
            "\u001b[1m810/810\u001b[0m \u001b[32m━━━━━━━━━━━━━━━━━━━━\u001b[0m\u001b[37m\u001b[0m \u001b[1m23s\u001b[0m 25ms/step - accuracy: 0.6264 - loss: 0.7982\n",
            "Epoch 2/5\n",
            "\u001b[1m810/810\u001b[0m \u001b[32m━━━━━━━━━━━━━━━━━━━━\u001b[0m\u001b[37m\u001b[0m \u001b[1m21s\u001b[0m 26ms/step - accuracy: 0.8943 - loss: 0.3092\n",
            "Epoch 3/5\n",
            "\u001b[1m810/810\u001b[0m \u001b[32m━━━━━━━━━━━━━━━━━━━━\u001b[0m\u001b[37m\u001b[0m \u001b[1m40s\u001b[0m 25ms/step - accuracy: 0.9435 - loss: 0.1914\n",
            "Epoch 4/5\n",
            "\u001b[1m810/810\u001b[0m \u001b[32m━━━━━━━━━━━━━━━━━━━━\u001b[0m\u001b[37m\u001b[0m \u001b[1m21s\u001b[0m 26ms/step - accuracy: 0.9566 - loss: 0.1463\n",
            "Epoch 5/5\n",
            "\u001b[1m810/810\u001b[0m \u001b[32m━━━━━━━━━━━━━━━━━━━━\u001b[0m\u001b[37m\u001b[0m \u001b[1m20s\u001b[0m 24ms/step - accuracy: 0.9656 - loss: 0.1136\n",
            "Train Accuracy: 0.96\n",
            "\u001b[1m810/810\u001b[0m \u001b[32m━━━━━━━━━━━━━━━━━━━━\u001b[0m\u001b[37m\u001b[0m \u001b[1m5s\u001b[0m 6ms/step - accuracy: 0.9006 - loss: 0.3160\n",
            "Test Accuracy: 0.90\n"
          ]
        }
      ]
    },
    {
      "cell_type": "code",
      "source": [
        "import joblib\n",
        "model.save('model_rnn.keras')\n",
        "joblib.dump(label_encoder, 'label_encoder.pkl')\n",
        "joblib.dump(tokenizer, 'tokenizer.pkl')"
      ],
      "metadata": {
        "colab": {
          "base_uri": "https://localhost:8080/"
        },
        "id": "7t_gXMAZJ3fz",
        "outputId": "70aea834-df6c-4f32-8b0f-07d774d63732"
      },
      "execution_count": 11,
      "outputs": [
        {
          "output_type": "execute_result",
          "data": {
            "text/plain": [
              "['tokenizer.pkl']"
            ]
          },
          "metadata": {},
          "execution_count": 11
        }
      ]
    },
    {
      "cell_type": "markdown",
      "source": [
        "# Skema Pelatihan Pertama"
      ],
      "metadata": {
        "id": "AhT5BZjNorOf"
      }
    },
    {
      "cell_type": "code",
      "source": [
        "from sklearn.feature_extraction.text import TfidfVectorizer\n",
        "from sklearn.model_selection import train_test_split\n",
        "from sklearn.metrics import accuracy_score\n",
        "from sklearn.preprocessing import StandardScaler\n",
        "from sklearn.svm import SVC\n",
        "\n",
        "X = data['text_akhir']\n",
        "y = data['polarity']\n",
        "label_encoder = LabelEncoder()\n",
        "y = label_encoder.fit_transform(y)\n",
        "\n",
        "tfidf = TfidfVectorizer(max_features=550, min_df=20, max_df=0.8 )\n",
        "X_tfidf = tfidf.fit_transform(X)\n",
        "\n",
        "X_train, X_test, y_train, y_test = train_test_split(X_tfidf, y, test_size=0.2, random_state=42)\n",
        "\n",
        "svm_model = SVC(kernel='linear')\n",
        "\n",
        "svm_model.fit(X_train, y_train)\n",
        "\n",
        "y_pred_train_svm = svm_model.predict(X_train)\n",
        "y_pred_test_svm = svm_model.predict(X_test)\n",
        "\n",
        "accuracy_train_svm = accuracy_score(y_pred_train_svm, y_train)\n",
        "accuracy_test_svm = accuracy_score(y_pred_test_svm, y_test)\n",
        "\n",
        "print('SVM - accuracy_test:', accuracy_train_svm)\n",
        "print('SVM - accuracy_test:', accuracy_test_svm)\n",
        "\n",
        "joblib.dump(svm_model, 'svm_model.pkl')\n",
        "joblib.dump(tfidf, 'tfidf_vectorizer.pkl')\n",
        "joblib.dump(label_encoder, 'label_encoder.pkl')"
      ],
      "metadata": {
        "colab": {
          "base_uri": "https://localhost:8080/"
        },
        "id": "sscCNGTWoqRx",
        "outputId": "4579d6fb-1ce9-4c90-90cc-da39fd80e312"
      },
      "execution_count": 12,
      "outputs": [
        {
          "output_type": "stream",
          "name": "stdout",
          "text": [
            "SVM - accuracy_test: 0.8614484582858688\n",
            "SVM - accuracy_test: 0.8580144418272386\n"
          ]
        },
        {
          "output_type": "execute_result",
          "data": {
            "text/plain": [
              "['label_encoder.pkl']"
            ]
          },
          "metadata": {},
          "execution_count": 12
        }
      ]
    },
    {
      "cell_type": "code",
      "source": [
        "joblib.dump(tfidf, 'tfidf_vectorizer.pkl')\n",
        "joblib.dump(svm_model, 'svm_model.pkl')"
      ],
      "metadata": {
        "colab": {
          "base_uri": "https://localhost:8080/"
        },
        "id": "vMNWX564LQ2Z",
        "outputId": "50c96d65-84bb-4f72-9b1a-de52e5fcd1e3"
      },
      "execution_count": 13,
      "outputs": [
        {
          "output_type": "execute_result",
          "data": {
            "text/plain": [
              "['svm_model.pkl']"
            ]
          },
          "metadata": {},
          "execution_count": 13
        }
      ]
    },
    {
      "cell_type": "markdown",
      "source": [
        "# Skema Pelatihan Kedua"
      ],
      "metadata": {
        "id": "AF_VJLW2xBx6"
      }
    },
    {
      "cell_type": "code",
      "source": [
        "from sklearn.feature_extraction.text import TfidfVectorizer\n",
        "from sklearn.model_selection import train_test_split\n",
        "from sklearn.metrics import accuracy_score\n",
        "from sklearn.preprocessing import StandardScaler\n",
        "from sklearn.ensemble import RandomForestClassifier\n",
        "\n",
        "X = data['text_akhir']\n",
        "y = data['polarity']\n",
        "label_encoder = LabelEncoder()\n",
        "y = label_encoder.fit_transform(y)\n",
        "\n",
        "tfidf = TfidfVectorizer(max_features=400, min_df=20, max_df=0.8 )\n",
        "X_tfidf = tfidf.fit_transform(X)\n",
        "\n",
        "X_train, X_test, y_train, y_test = train_test_split(X_tfidf, y, test_size=0.2, random_state=42)\n",
        "\n",
        "random_forest = RandomForestClassifier()\n",
        "\n",
        "random_forest.fit(X_train, y_train)\n",
        "\n",
        "y_pred_train_rf = random_forest.predict(X_train)\n",
        "y_pred_test_rf = random_forest.predict(X_test)\n",
        "\n",
        "accuracy_train_rf = accuracy_score(y_pred_train_rf, y_train)\n",
        "accuracy_test_rf = accuracy_score(y_pred_test_rf, y_test)\n",
        "\n",
        "print('Random Forest - accuracy_train:', accuracy_train_rf)\n",
        "print('Random Forest - accuracy_test:', accuracy_test_rf)"
      ],
      "metadata": {
        "colab": {
          "base_uri": "https://localhost:8080/"
        },
        "id": "qKZjr6sluEDR",
        "outputId": "4e6a378c-db9e-4555-ab96-9813be3248f8"
      },
      "execution_count": 14,
      "outputs": [
        {
          "output_type": "stream",
          "name": "stdout",
          "text": [
            "Random Forest - accuracy_train: 0.9554186859228081\n",
            "Random Forest - accuracy_test: 0.8096304591265397\n"
          ]
        }
      ]
    },
    {
      "cell_type": "markdown",
      "source": [
        "# Skema Pelatihan Ketiga"
      ],
      "metadata": {
        "id": "ftZMuQUfxopu"
      }
    },
    {
      "cell_type": "code",
      "source": [
        "import pandas as pd\n",
        "from gensim.models import Word2Vec\n",
        "from sklearn.model_selection import train_test_split\n",
        "from sklearn.metrics import accuracy_score\n",
        "from sklearn.preprocessing import LabelEncoder\n",
        "from sklearn.svm import SVC\n",
        "import numpy as np\n",
        "\n",
        "X = data['text_akhir']\n",
        "y = data['polarity']\n",
        "label_encoder = LabelEncoder()\n",
        "y = label_encoder.fit_transform(y)\n",
        "\n",
        "X_tokenized = [text.split() for text in X]\n",
        "\n",
        "w2v_model = Word2Vec(sentences=X_tokenized, vector_size=100, window=5, min_count=3, workers=4)\n",
        "\n",
        "def vectorize_text(text):\n",
        "    words = text.split()\n",
        "    word_vectors = [w2v_model.wv[word] for word in words if word in w2v_model.wv]\n",
        "    return np.mean(word_vectors, axis=0) if word_vectors else np.zeros(w2v_model.vector_size)\n",
        "\n",
        "X_vectors = np.array([vectorize_text(text) for text in X])\n",
        "\n",
        "X_train, X_test, y_train, y_test = train_test_split(X_vectors, y, test_size=0.2, random_state=42)\n",
        "\n",
        "svm_model_word2vec = SVC(kernel='rbf')\n",
        "\n",
        "svm_model_word2vec.fit(X_train, y_train)\n",
        "\n",
        "y_pred_train_svm = svm_model_word2vec.predict(X_train)\n",
        "y_pred_test_svm = svm_model_word2vec.predict(X_test)\n",
        "\n",
        "accuracy_train_svm = accuracy_score(y_pred_train_svm, y_train)\n",
        "accuracy_test_svm = accuracy_score(y_pred_test_svm, y_test)\n",
        "\n",
        "print('SVM - accuracy_test:', accuracy_train_svm)\n",
        "print('SVM - accuracy_test:', accuracy_test_svm)"
      ],
      "metadata": {
        "colab": {
          "base_uri": "https://localhost:8080/"
        },
        "id": "Lo-PE1hDE7Jq",
        "outputId": "eafedee4-3795-4acd-d291-9713f3ede15e"
      },
      "execution_count": 16,
      "outputs": [
        {
          "output_type": "stream",
          "name": "stdout",
          "text": [
            "SVM - accuracy_test: 0.782219604965922\n",
            "SVM - accuracy_test: 0.7772328841178515\n"
          ]
        }
      ]
    },
    {
      "cell_type": "markdown",
      "source": [
        "# Skema Pelatihan Ke empat"
      ],
      "metadata": {
        "id": "btgMorQQT5Qp"
      }
    },
    {
      "cell_type": "code",
      "source": [
        "import pandas as pd\n",
        "from gensim.models import Word2Vec\n",
        "from sklearn.model_selection import train_test_split\n",
        "from sklearn.metrics import accuracy_score\n",
        "from sklearn.preprocessing import LabelEncoder\n",
        "from sklearn.ensemble import RandomForestClassifier\n",
        "import numpy as np\n",
        "\n",
        "X = data['text_akhir']\n",
        "y = data['polarity']\n",
        "label_encoder = LabelEncoder()\n",
        "y = label_encoder.fit_transform(y)\n",
        "\n",
        "X_tokenized = [text.split() for text in X]\n",
        "\n",
        "w2v_model = Word2Vec(sentences=X_tokenized, vector_size=50, window=2, min_count=1, workers=2)\n",
        "\n",
        "def vectorize_text(text):\n",
        "    words = text.split()\n",
        "    word_vectors = [w2v_model.wv[word] for word in words if word in w2v_model.wv]\n",
        "    return np.mean(word_vectors, axis=0) if word_vectors else np.zeros(w2v_model.vector_size)\n",
        "\n",
        "X_vectors = np.array([vectorize_text(text) for text in X])\n",
        "\n",
        "X_train, X_test, y_train, y_test = train_test_split(X_vectors, y, test_size=0.3, random_state=42)\n",
        "\n",
        "random_forest_word2vec = RandomForestClassifier()\n",
        "\n",
        "random_forest_word2vec.fit(X_train, y_train)\n",
        "\n",
        "y_pred_train_rf = random_forest_word2vec.predict(X_train)\n",
        "y_pred_test_rf = random_forest_word2vec.predict(X_test)\n",
        "\n",
        "accuracy_train_rf = accuracy_score(y_pred_train_rf, y_train)\n",
        "accuracy_test_rf = accuracy_score(y_pred_test_rf, y_test)\n",
        "\n",
        "print('Random Forest - accuracy_train:', accuracy_train_rf)\n",
        "print('Random Forest - accuracy_test:', accuracy_test_rf)"
      ],
      "metadata": {
        "colab": {
          "base_uri": "https://localhost:8080/"
        },
        "id": "ahTVKEB0TfrO",
        "outputId": "a2020a23-fc4c-4618-d3b3-cdf3c1ee7bfe"
      },
      "execution_count": 17,
      "outputs": [
        {
          "output_type": "stream",
          "name": "stdout",
          "text": [
            "Random Forest - accuracy_train: 0.9999889670998918\n",
            "Random Forest - accuracy_test: 0.7370575363624662\n"
          ]
        }
      ]
    },
    {
      "cell_type": "code",
      "source": [
        "joblib.dump(random_forest_word2vec, 'random_forest_word2vec.pkl')\n",
        "w2v_model.save('word2vec_model.model')"
      ],
      "metadata": {
        "id": "K-JEFTUsbuAH"
      },
      "execution_count": 19,
      "outputs": []
    }
  ]
}