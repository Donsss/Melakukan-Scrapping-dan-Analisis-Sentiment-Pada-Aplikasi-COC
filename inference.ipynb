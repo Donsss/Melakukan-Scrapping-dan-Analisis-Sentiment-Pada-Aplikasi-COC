{
  "nbformat": 4,
  "nbformat_minor": 0,
  "metadata": {
    "colab": {
      "provenance": []
    },
    "kernelspec": {
      "name": "python3",
      "display_name": "Python 3"
    },
    "language_info": {
      "name": "python"
    }
  },
  "cells": [
    {
      "cell_type": "markdown",
      "source": [
        "# Inference Menggunkan Algoritma Deep Learning RNN"
      ],
      "metadata": {
        "id": "ZaicSJIdnHef"
      }
    },
    {
      "cell_type": "code",
      "execution_count": 1,
      "metadata": {
        "colab": {
          "base_uri": "https://localhost:8080/"
        },
        "id": "-_-v4Kg9V6hN",
        "outputId": "e18e297b-6551-40b0-9c1c-2c787984a253"
      },
      "outputs": [
        {
          "output_type": "stream",
          "name": "stdout",
          "text": [
            "\u001b[1m1/1\u001b[0m \u001b[32m━━━━━━━━━━━━━━━━━━━━\u001b[0m\u001b[37m\u001b[0m \u001b[1m0s\u001b[0m 211ms/step\n",
            "Hasil Prediksi Menggunakan Algoritam RNN :\n",
            "Tekt: \"saya suka game strategi seperti ini\" --> Prediksi: positive\n",
            "Tekt: \"gamenya nggak menarik bagi saya\" --> Prediksi: negative\n",
            "Tekt: \"gamenya biasa saja\" --> Prediksi: neutral\n"
          ]
        }
      ],
      "source": [
        "import pandas as pd\n",
        "from keras.models import load_model\n",
        "import joblib\n",
        "from keras.preprocessing.sequence import pad_sequences\n",
        "\n",
        "model = load_model('/content/model_rnn.keras')\n",
        "tokenizer = joblib.load('/content/tokenizer.pkl')\n",
        "label_encoder = joblib.load('/content/label_encoder.pkl')\n",
        "\n",
        "\n",
        "data = [\"saya suka game strategi seperti ini\", \"gamenya nggak menarik bagi saya\", \"gamenya biasa saja\"]\n",
        "\n",
        "new_sequences = tokenizer.texts_to_sequences(data)\n",
        "new_data_padded = pad_sequences(new_sequences, maxlen=model.input_shape[1])\n",
        "\n",
        "predictions = model.predict(new_data_padded)\n",
        "\n",
        "predicted_classes = predictions.argmax(axis=1)\n",
        "\n",
        "predicted_labels = label_encoder.inverse_transform(predicted_classes)\n",
        "\n",
        "print(\"Hasil Prediksi Menggunakan Algoritam RNN :\")\n",
        "\n",
        "for text, label in zip(data, predicted_labels):\n",
        "    print(f'Tekt: \"{text}\" --> Prediksi: {label}')"
      ]
    },
    {
      "cell_type": "markdown",
      "source": [
        "# Inference Menggunakan Algoritma SVM dengan Ekstraksi TF-IDF"
      ],
      "metadata": {
        "id": "r9gSV6S7nlzw"
      }
    },
    {
      "cell_type": "code",
      "source": [
        "tfidf = joblib.load('/content/tfidf_vectorizer.pkl')\n",
        "svm_model = joblib.load('/content/svm_model.pkl')\n",
        "\n",
        "text = [\"saya suka game strategi seperi ini\", \"gamenya nggak menarik bagi saya\", \"gamenya biasa saja\"]\n",
        "\n",
        "text_tfidf = tfidf.transform(text)\n",
        "\n",
        "predictions = svm_model.predict(text_tfidf)\n",
        "\n",
        "predicted_labels = label_encoder.inverse_transform(predictions)\n",
        "\n",
        "print(\"Hasil Prediksi Menggunakan Algoritam SVM :\")\n",
        "\n",
        "for text, label in zip(text, predicted_labels):\n",
        "    print(f'Tekt: \"{text}\" -> Prediksi: {label}')"
      ],
      "metadata": {
        "colab": {
          "base_uri": "https://localhost:8080/"
        },
        "id": "10sQcGRrZ7zb",
        "outputId": "04311045-62cf-4827-ae18-0fae34c88599"
      },
      "execution_count": 2,
      "outputs": [
        {
          "output_type": "stream",
          "name": "stdout",
          "text": [
            "Hasil Prediksi Menggunakan Algoritam SVM :\n",
            "Tekt: \"saya suka game strategi seperi ini\" -> Prediksi: positive\n",
            "Tekt: \"gamenya nggak menarik bagi saya\" -> Prediksi: negative\n",
            "Tekt: \"gamenya biasa saja\" -> Prediksi: neutral\n"
          ]
        }
      ]
    },
    {
      "cell_type": "markdown",
      "source": [
        "# Inference Menggunakan Algoritma Random Forest dengan Ekstraksi Word2Vec"
      ],
      "metadata": {
        "id": "HfaXGuS5nwKF"
      }
    },
    {
      "cell_type": "code",
      "source": [
        "!pip install gensim"
      ],
      "metadata": {
        "colab": {
          "base_uri": "https://localhost:8080/"
        },
        "id": "ixLu-Slzt36p",
        "outputId": "837a8fe8-e981-4125-fc42-a81374df04de"
      },
      "execution_count": 3,
      "outputs": [
        {
          "output_type": "stream",
          "name": "stdout",
          "text": [
            "Requirement already satisfied: gensim in /usr/local/lib/python3.11/dist-packages (4.3.3)\n",
            "Requirement already satisfied: numpy<2.0,>=1.18.5 in /usr/local/lib/python3.11/dist-packages (from gensim) (1.26.4)\n",
            "Requirement already satisfied: scipy<1.14.0,>=1.7.0 in /usr/local/lib/python3.11/dist-packages (from gensim) (1.13.1)\n",
            "Requirement already satisfied: smart-open>=1.8.1 in /usr/local/lib/python3.11/dist-packages (from gensim) (7.1.0)\n",
            "Requirement already satisfied: wrapt in /usr/local/lib/python3.11/dist-packages (from smart-open>=1.8.1->gensim) (1.17.2)\n"
          ]
        }
      ]
    },
    {
      "cell_type": "code",
      "source": [
        "import joblib\n",
        "import numpy as np\n",
        "from gensim.models import Word2Vec\n",
        "\n",
        "\n",
        "random_forest_word2vec = joblib.load('/content/random_forest_word2vec.pkl')\n",
        "w2v_model = Word2Vec.load('/content/word2vec_model.model')\n",
        "\n",
        "def vectorize_text(text, w2v_model):\n",
        "    words = text.split()\n",
        "    word_vectors = [w2v_model.wv[word] for word in words if word in w2v_model.wv]\n",
        "    return np.mean(word_vectors, axis=0) if word_vectors else np.zeros(w2v_model.vector_size)\n",
        "\n",
        "data = [\"saya suka game strategi seperi ini\", \"gamenya nggak menarik bagi saya\", \"gamenya biasa saja\"]\n",
        "\n",
        "X_new_vectors = np.array([vectorize_text(text, w2v_model) for text in data])\n",
        "\n",
        "predictions = random_forest_word2vec.predict(X_new_vectors)\n",
        "\n",
        "predicted_labels = label_encoder.inverse_transform(predictions)\n",
        "\n",
        "for text, label in zip(data, predicted_labels):\n",
        "    print(f'Tekst: \"{text}\" -> Prediksi: {label}')"
      ],
      "metadata": {
        "colab": {
          "base_uri": "https://localhost:8080/"
        },
        "id": "QD51xTPTtoGm",
        "outputId": "779d3e54-9095-4b75-a1c2-ecfa223fc1bc"
      },
      "execution_count": 9,
      "outputs": [
        {
          "output_type": "stream",
          "name": "stdout",
          "text": [
            "Tekst: \"saya suka game strategi seperi ini\" -> Prediksi: positive\n",
            "Tekst: \"gamenya nggak menarik bagi saya\" -> Prediksi: negative\n",
            "Tekst: \"gamenya biasa saja\" -> Prediksi: neutral\n"
          ]
        }
      ]
    }
  ]
}